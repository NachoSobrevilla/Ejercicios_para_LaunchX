{
 "cells": [
  {
   "cell_type": "markdown",
   "metadata": {},
   "source": [
    "# Mi primer programa LaunchX"
   ]
  },
  {
   "cell_type": "markdown",
   "metadata": {},
   "source": [
    "## La fecha de hoy"
   ]
  },
  {
   "cell_type": "code",
   "execution_count": 2,
   "metadata": {},
   "outputs": [
    {
     "name": "stdout",
     "output_type": "stream",
     "text": [
      "La fecha del dia de hoy es:  2022-02-06\n"
     ]
    }
   ],
   "source": [
    "from datetime import date\n",
    "\n",
    "print(\"La fecha del dia de hoy es: \", str(date.today()))"
   ]
  },
  {
   "cell_type": "markdown",
   "metadata": {},
   "source": [
    "## Convertidor Persecs a Años Luz"
   ]
  },
  {
   "cell_type": "code",
   "execution_count": 4,
   "metadata": {},
   "outputs": [
    {
     "name": "stdout",
     "output_type": "stream",
     "text": [
      "11 persec, is 35.877159999999996 lightyear(s)\n"
     ]
    }
   ],
   "source": [
    "persecs = 11\n",
    "\n",
    "lightyears = 3.26156 * persecs\n",
    "\n",
    "print(str(persecs) + \" persec, is \"+str(lightyears)+\" lightyear(s)\")"
   ]
  },
  {
   "cell_type": "code",
   "execution_count": 6,
   "metadata": {},
   "outputs": [
    {
     "name": "stdout",
     "output_type": "stream",
     "text": [
      "35.877159999999996 lightyear(s), is 11.0 persecs\n"
     ]
    }
   ],
   "source": [
    "lightyears = 35.877159999999996\n",
    "\n",
    "persecs = lightyears / 3.26156\n",
    "\n",
    "print(str(lightyears)+\" lightyear(s), is \"+str(persecs)+\" persecs\")\n"
   ]
  },
  {
   "cell_type": "code",
   "execution_count": 2,
   "metadata": {},
   "outputs": [
    {
     "name": "stdout",
     "output_type": "stream",
     "text": [
      "Convertidor de Años luz - Persecs\n",
      "1.- Convertir años luz a persercs\n",
      "2.- Convertir persercs a años luz\n",
      "35.0 lightyear(s), is 10.731061209973142 persecs\n"
     ]
    }
   ],
   "source": [
    "print(\"Convertidor de Años luz - Persecs\")\n",
    "print(\"1.- Convertir años luz a persercs\")\n",
    "print(\"2.- Convertir persercs a años luz\")\n",
    "\n",
    "ban = False\n",
    "while(ban == False): \n",
    "    ipt = input(\"Eliga una opción 1 o 2. Si quiere salir, oprima 'q': \")\n",
    "    if ipt == '1':\n",
    "        lightyears = float(input(\"ingrese el numero de años luz a calcular: \"))\n",
    "        persecs = lightyears / 3.26156\n",
    "        print(str(lightyears)+\" lightyear(s), is \"+str(persecs)+\" persecs\")\n",
    "        break\n",
    "    \n",
    "    elif ipt == '2':\n",
    "        persecs = float(input(\"ingrese el numero de persecs a calcular: \"))\n",
    "        lightyears = 3.26156 * persecs\n",
    "        print(str(persecs) + \" persec, is \"+str(lightyears)+\" lightyear(s)\")\n",
    "        break\n",
    "    \n",
    "    elif ipt == 'q':\n",
    "        break\n",
    "    \n",
    "    else:\n",
    "        print(\"opción errona, eliga nuevamente\")\n",
    "        continue\n",
    "        \n",
    "        \n"
   ]
  }
 ],
 "metadata": {
  "interpreter": {
   "hash": "52331f9b8ec9264c34b08e76134d1f05baf7cb08641fe5670002b2efc7ea4576"
  },
  "kernelspec": {
   "display_name": "Python 3.8.5 64-bit",
   "language": "python",
   "name": "python3"
  },
  "language_info": {
   "codemirror_mode": {
    "name": "ipython",
    "version": 3
   },
   "file_extension": ".py",
   "mimetype": "text/x-python",
   "name": "python",
   "nbconvert_exporter": "python",
   "pygments_lexer": "ipython3",
   "version": "3.8.5"
  },
  "orig_nbformat": 4
 },
 "nbformat": 4,
 "nbformat_minor": 2
}
