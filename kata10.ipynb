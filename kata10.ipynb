{
 "cells": [
  {
   "cell_type": "markdown",
   "metadata": {},
   "source": [
    "## Intentando abrir un archivo inexistente"
   ]
  },
  {
   "cell_type": "code",
   "execution_count": 1,
   "metadata": {},
   "outputs": [],
   "source": [
    "def main():\n",
    "    open(\"image.png\")\n",
    "\n",
    "if __name__ == '__main__':\n",
    "    main()"
   ]
  },
  {
   "cell_type": "markdown",
   "metadata": {},
   "source": [
    "Esto dio como resultado"
   ]
  },
  {
   "cell_type": "code",
   "execution_count": null,
   "metadata": {},
   "outputs": [],
   "source": [
    "File \"<stdin>\", line 2, in <module>\n",
    "  File \"<stdin>\", line 2, in main\n",
    "FileNotFoundError: [Errno 2] No such file or directory: 'image.png'\n"
   ]
  },
  {
   "cell_type": "markdown",
   "metadata": {},
   "source": [
    "Ahora se implementara un try except para captar el error"
   ]
  },
  {
   "cell_type": "code",
   "execution_count": 1,
   "metadata": {},
   "outputs": [
    {
     "name": "stdout",
     "output_type": "stream",
     "text": [
      "[Errno 2] No such file or directory: 'image.png'\n"
     ]
    }
   ],
   "source": [
    "def main():\n",
    "    try:\n",
    "        open(\"image.png\")\n",
    "    except FileNotFoundError as e:\n",
    "        print(e)\n",
    "\n",
    "if __name__ == '__main__':\n",
    "    main()"
   ]
  },
  {
   "cell_type": "markdown",
   "metadata": {},
   "source": [
    "Tambien se puede hacer con 'Exception'"
   ]
  },
  {
   "cell_type": "code",
   "execution_count": 2,
   "metadata": {},
   "outputs": [
    {
     "name": "stdout",
     "output_type": "stream",
     "text": [
      "Error al accesar al archivo: \n",
      "[Errno 2] No such file or directory: 'image.png'\n"
     ]
    }
   ],
   "source": [
    "def main():\n",
    "    try:\n",
    "        open(\"image.png\")\n",
    "    except Exception as e:\n",
    "        print(\"Error al accesar al archivo: \\n\"+str(e))\n",
    "\n",
    "if __name__ == '__main__':\n",
    "    main()"
   ]
  },
  {
   "cell_type": "markdown",
   "metadata": {},
   "source": [
    "Creamos el archivo info.txt y veremos que mensaje da como resultado"
   ]
  },
  {
   "cell_type": "code",
   "execution_count": 1,
   "metadata": {},
   "outputs": [
    {
     "name": "stdout",
     "output_type": "stream",
     "text": [
      "Error al accesar al archivo: \n",
      "[Errno 13] Permission denied: 'info.txt'\n"
     ]
    }
   ],
   "source": [
    "def main():\n",
    "    try:\n",
    "        info = open(\"info.txt\")\n",
    "    except (FileNotFoundError,IsADirectoryError)  as e:\n",
    "        print(\"Error al accesar al archivo: \\n\"+str(e))\n",
    "    except Exception as e:\n",
    "        print(\"Error al accesar al archivo: \\n\"+str(e))\n",
    "\n",
    "if __name__ == '__main__':\n",
    "    main()"
   ]
  },
  {
   "cell_type": "markdown",
   "metadata": {},
   "source": [
    "En este caso agrupe los errores de directorio en uno solo, y para de archivo o generales caen en el Exception. No es tan recomendable agurpar excepciones porque se pueden generalizar"
   ]
  },
  {
   "cell_type": "code",
   "execution_count": 5,
   "metadata": {},
   "outputs": [
    {
     "name": "stdout",
     "output_type": "stream",
     "text": [
      "El archivo info.txt no se encuentra en el directorio. Detalles:\n",
      "[Errno 2] No such file or directory: 'info.txt'\n"
     ]
    }
   ],
   "source": [
    "def main():\n",
    "    try:\n",
    "        info = open(\"info.txt\")\n",
    "    except OSError as ose:\n",
    "        if ose.errno == 2:\n",
    "            print(f\"El archivo {ose.filename} no se encuentra en el directorio. Detalles:\\n\" +str(ose))\n",
    "        elif ose.errno == 13:\n",
    "            print(f\"No se tiene permiso de lectura para el archivo {ose.filename}. Detalles:\\n\" +str(ose))\n",
    "\n",
    "if __name__ == '__main__':\n",
    "    main()"
   ]
  },
  {
   "cell_type": "markdown",
   "metadata": {},
   "source": [
    "No se tiene permiso de lectura para el archivo info.txt. Detalles:\n",
    "[Errno 13] Permission denied: 'info.txt'"
   ]
  },
  {
   "cell_type": "markdown",
   "metadata": {},
   "source": [
    "Ahora se realizara una generacion de excepciones, para ello se crearan una funcion para calcular cuanto tiempo le queda a las reservas de agua, considerando de que cada astronauta 11 litros de agua al día."
   ]
  },
  {
   "cell_type": "code",
   "execution_count": 7,
   "metadata": {},
   "outputs": [
    {
     "data": {
      "text/plain": [
       "'Total de agua sobrante despues de 3 es: -85'"
      ]
     },
     "execution_count": 7,
     "metadata": {},
     "output_type": "execute_result"
    }
   ],
   "source": [
    "def check_nivel_agua(astronautas, agua_restante, dias_faltantes):\n",
    "    uso_diario = astronautas * 11\n",
    "    uso_total = uso_diario * dias_faltantes\n",
    "    total_agua_restan = agua_restante - uso_total\n",
    "    return f\"Total de agua sobrante despues de {dias_faltantes} es: {total_agua_restan}\"\n",
    "\n",
    "check_nivel_agua(5, 80, 3)"
   ]
  },
  {
   "cell_type": "markdown",
   "metadata": {},
   "source": [
    "No es algo viable que muestre numeros negativos, por lo que es necesario generar una excepción"
   ]
  },
  {
   "cell_type": "code",
   "execution_count": 1,
   "metadata": {},
   "outputs": [],
   "source": [
    "def check_nivel_agua(astronautas, agua_restante, dias_faltantes):\n",
    "    uso_diario = astronautas * 11\n",
    "    uso_total = uso_diario * dias_faltantes\n",
    "    total_agua_restan = agua_restante - uso_total\n",
    "    #Lanzar una excepcion\n",
    "    if  total_agua_restan < 0:\n",
    "        raise RuntimeError(f\"No hay suficiente agua para {astronautas} astronautas despues de {dias_faltantes} days!\")\n",
    "\n",
    "    return f\"Total de agua sobrante despues de {dias_faltantes} es: {total_agua_restan} litros\""
   ]
  },
  {
   "cell_type": "markdown",
   "metadata": {},
   "source": [
    "Exception has occurred: RuntimeError\n",
    "No hay suficiente agua para 5 astronautas despues de 3 days!\n",
    "  File \"/tmp/ipykernel_20321/3936173890.py\", line 7, in check_nivel_agua\n",
    "    raise RuntimeError(f\"No hay suficiente agua para {astronautas} astronautas despues de {dias_faltantes} days!\")\n",
    "  File \"/tmp/ipykernel_20321/3936173890.py\", line 12, in <module>\n",
    "    print(check_nivel_agua(5, 80, 3))\n",
    "\n",
    "Exception has occurred: RuntimeError\n",
    "No hay suficiente agua para 5 astronautas despues de 3 days!\n",
    "  File \"/tmp/ipykernel_20321/3936173890.py\", line 12, in <module>\n",
    "    print(check_nivel_agua(5, 80, 3))"
   ]
  },
  {
   "cell_type": "markdown",
   "metadata": {},
   "source": [
    "Ahora esa clase se intergra a un try except"
   ]
  },
  {
   "cell_type": "code",
   "execution_count": 3,
   "metadata": {},
   "outputs": [
    {
     "name": "stdout",
     "output_type": "stream",
     "text": [
      "Alerta del sistema de navegación:  No hay suficiente agua para 5 astronautas despues de 3 days!\n"
     ]
    }
   ],
   "source": [
    "try:\n",
    "    print(check_nivel_agua(5, 80, 3))\n",
    "except RuntimeError as rte:\n",
    "    print(\"Alerta del sistema de navegación: \",str(rte))"
   ]
  },
  {
   "cell_type": "markdown",
   "metadata": {},
   "source": [
    "Los argumentos que sean enteros (int) pero tambien se puden se pueden ingresar valores diferentes que no sean adecuados para realizar operaciones como strings o boleanos. Para ello es necesario agregar una nueva excepcion para avisar que los errores ingresados."
   ]
  },
  {
   "cell_type": "code",
   "execution_count": 1,
   "metadata": {},
   "outputs": [],
   "source": [
    "def check_nivel_agua(astronautas, agua_restante, dias_faltantes):\n",
    "    for arg in [astronautas, agua_restante, dias_faltantes] :\n",
    "        try:\n",
    "            arg/2\n",
    "        \n",
    "        except TypeError:\n",
    "            raise TypeError(f\"El valor '{arg}' no es idoneo para realizar las operaciones pertinentes\")\n",
    "\n",
    "    uso_diario = astronautas * 11\n",
    "    uso_total = uso_diario * dias_faltantes\n",
    "    total_agua_restan = agua_restante - uso_total\n",
    "    #Lanzar una excepcion\n",
    "    if  total_agua_restan < 0:\n",
    "        raise RuntimeError(f\"No hay suficiente agua para {astronautas} astronautas despues de {dias_faltantes} days!\")\n",
    "\n",
    "    return f\"Total de agua sobrante despues de {dias_faltantes} es: {total_agua_restan} litros\""
   ]
  },
  {
   "cell_type": "markdown",
   "metadata": {},
   "source": [
    "Ahora hay que cambiar la excepcion a general para captar las excepciones que arroje la funcion"
   ]
  },
  {
   "cell_type": "code",
   "execution_count": 2,
   "metadata": {},
   "outputs": [
    {
     "name": "stdout",
     "output_type": "stream",
     "text": [
      "Alerta del sistema de navegación:  El valor 4 no es idoneo para realizar las operaciones pertinentes\n"
     ]
    }
   ],
   "source": [
    "try:\n",
    "    print(check_nivel_agua('4', 80, 3))\n",
    "except Exception as e:\n",
    "    print(\"Alerta del sistema de navegación: \",str(e))"
   ]
  }
 ],
 "metadata": {
  "interpreter": {
   "hash": "31f2aee4e71d21fbe5cf8b01ff0e069b9275f58929596ceb00d14d90e3e16cd6"
  },
  "kernelspec": {
   "display_name": "Python 3.8.10 64-bit",
   "language": "python",
   "name": "python3"
  },
  "language_info": {
   "codemirror_mode": {
    "name": "ipython",
    "version": 3
   },
   "file_extension": ".py",
   "mimetype": "text/x-python",
   "name": "python",
   "nbconvert_exporter": "python",
   "pygments_lexer": "ipython3",
   "version": "3.8.10"
  },
  "orig_nbformat": 4
 },
 "nbformat": 4,
 "nbformat_minor": 2
}
